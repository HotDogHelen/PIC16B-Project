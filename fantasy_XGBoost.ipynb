{
 "cells": [
  {
   "cell_type": "code",
   "execution_count": 12,
   "id": "76946e7e",
   "metadata": {},
   "outputs": [],
   "source": [
    "from fantasy_conversion import fantasy_stats\n",
    "nba_df = pd.read_csv('pic16b_nba_stats.csv')\n",
    "fantasy_df = fantasy_stats(nba_df)"
   ]
  },
  {
   "cell_type": "code",
   "execution_count": 18,
   "id": "4a9e95c3",
   "metadata": {
    "scrolled": true
   },
   "outputs": [
    {
     "name": "stdout",
     "output_type": "stream",
     "text": [
      "Model Performance:\n",
      "MSE: 430.4522765621615, MAE: 4.701296230437561, R²: 0.999340210969576\n"
     ]
    }
   ],
   "source": [
    "import pandas as pd\n",
    "from xgboost import XGBRegressor\n",
    "from sklearn.model_selection import train_test_split\n",
    "from sklearn.metrics import mean_squared_error, r2_score, mean_absolute_error\n",
    "import pickle\n",
    "\n",
    "def train_xgboost_model(nba_df):\n",
    "    # Define features and target\n",
    "    X = nba_df[['Fantasy Points']]  # Only use Fantasy Points as the feature\n",
    "    y = nba_df['Fantasy Points']  # Target is Fantasy Points for next year\n",
    "    \n",
    "    X_train, X_test, y_train, y_test = train_test_split(X, y, test_size=0.2, random_state=42)\n",
    "    \n",
    "    model = XGBRegressor(\n",
    "        n_estimators=500,\n",
    "        learning_rate=0.05,\n",
    "        max_depth=6,\n",
    "        subsample=0.8,\n",
    "        colsample_bytree=0.8,\n",
    "        random_state=42\n",
    "    )\n",
    "    \n",
    "    model.fit(X_train, y_train)\n",
    "    \n",
    "    y_pred = model.predict(X_test)\n",
    "    mse = mean_squared_error(y_test, y_pred)\n",
    "    mae = mean_absolute_error(y_test, y_pred)\n",
    "    r2 = r2_score(y_test, y_pred)\n",
    "    \n",
    "    print(f\"Model Performance:\\nMSE: {mse}, MAE: {mae}, R²: {r2}\")\n",
    "    \n",
    "    with open('xgb_model.pkl', 'wb') as file:\n",
    "        pickle.dump(model, file)\n",
    "    \n",
    "    return model\n",
    "\n",
    "if __name__ == \"__main__\":\n",
    "    # Load and clean the dataset\n",
    "    nba_df = pd.read_csv('pic16b_nba_stats.csv')\n",
    "    fantasy_df = fantasy_stats(nba_df)\n",
    "    \n",
    "    # Train the model\n",
    "    model = train_xgboost_model(fantasy_df)"
   ]
  },
  {
   "cell_type": "code",
   "execution_count": 14,
   "id": "d2bab993",
   "metadata": {},
   "outputs": [],
   "source": [
    "with open('nba_fantasy_model.pkl', 'wb') as file:  # New filename\n",
    "    pickle.dump(model, file)"
   ]
  },
  {
   "cell_type": "code",
   "execution_count": null,
   "id": "6b42842d",
   "metadata": {},
   "outputs": [],
   "source": []
  }
 ],
 "metadata": {
  "kernelspec": {
   "display_name": "Python 3 (ipykernel)",
   "language": "python",
   "name": "python3"
  },
  "language_info": {
   "codemirror_mode": {
    "name": "ipython",
    "version": 3
   },
   "file_extension": ".py",
   "mimetype": "text/x-python",
   "name": "python",
   "nbconvert_exporter": "python",
   "pygments_lexer": "ipython3",
   "version": "3.11.5"
  }
 },
 "nbformat": 4,
 "nbformat_minor": 5
}
