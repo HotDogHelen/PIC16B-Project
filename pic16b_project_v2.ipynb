{
 "cells": [
  {
   "cell_type": "code",
   "execution_count": 39,
   "id": "2979614a",
   "metadata": {},
   "outputs": [],
   "source": [
    "import pandas as pd\n",
    "import requests \n",
    "import time"
   ]
  },
  {
   "cell_type": "code",
   "execution_count": 43,
   "id": "e0dd1a8f",
   "metadata": {},
   "outputs": [],
   "source": [
    "def scrape_nba_data(start_season, end_season, stat_category='PTS', season_type='Regular Season'):\n",
    "    all_data = []\n",
    "\n",
    "    for year in range(start_season, end_season + 1):\n",
    "        season = f\"{year}-{str(year + 1)[-2:]}\"\n",
    "        url = (f\"https://stats.nba.com/stats/leagueLeaders?\"\n",
    "               f\"LeagueID=00&PerMode=PerGame&Scope=S&Season={season}\"\n",
    "               f\"&SeasonType={season_type}&StatCategory={stat_category}\")\n",
    "\n",
    "        headers = {\n",
    "            'User-Agent': 'Mozilla/5.0 (Windows NT 10.0; Win64; x64) AppleWebKit/537.36 (KHTML, like Gecko) Chrome/91.0.4472.124 Safari/537.36',\n",
    "            'Referer': 'https://www.nba.com/',\n",
    "            'x-nba-stats-origin': 'stats',\n",
    "            'x-nba-stats-token': 'true'\n",
    "        }\n",
    "\n",
    "        try:\n",
    "            response = requests.get(url, headers=headers)\n",
    "            response.raise_for_status()\n",
    "            data = response.json()['resultSet']['rowSet']\n",
    "            columns = response.json()['resultSet']['headers']\n",
    "            season_df = pd.DataFrame(data, columns=columns)\n",
    "            season_df['Season'] = season\n",
    "            all_data.append(season_df)\n",
    "\n",
    "        except requests.exceptions.RequestException as e:\n",
    "            print(f\"Failed to fetch data for season {season}: {e}\")\n",
    "            continue\n",
    "\n",
    "        time.sleep(2)\n",
    "\n",
    "    # Combine all data into a single DataFrame\n",
    "    combined_df = pd.concat(all_data, ignore_index=True) if all_data else pd.DataFrame()\n",
    "    return combined_df"
   ]
  },
  {
   "cell_type": "code",
   "execution_count": 42,
   "id": "f76779f3",
   "metadata": {},
   "outputs": [
    {
     "name": "stdout",
     "output_type": "stream",
     "text": [
      "Data scraped for 6 seasons.\n",
      "   PLAYER_ID  RANK                 PLAYER     TEAM_ID TEAM  GP   MIN   FGM  \\\n",
      "0     201935     1           James Harden  1610612745  HOU  78  36.8  10.8   \n",
      "1     202331     2            Paul George  1610612760  OKC  77  36.9   9.2   \n",
      "2     203507     3  Giannis Antetokounmpo  1610612749  MIL  72  32.8  10.0   \n",
      "3     203954     4            Joel Embiid  1610612755  PHI  64  33.7   9.1   \n",
      "4     201939     5          Stephen Curry  1610612744  GSW  69  33.8   9.2   \n",
      "\n",
      "    FGA  FG_PCT  ...  OREB  DREB   REB  AST  STL  BLK  TOV   PTS   EFF  \\\n",
      "0  24.5   0.442  ...   0.8   5.8   6.6  7.5  2.0  0.7  5.0  36.1  33.1   \n",
      "1  21.0   0.438  ...   1.4   6.8   8.2  4.1  2.2  0.4  2.7  28.0  27.4   \n",
      "2  17.3   0.578  ...   2.2  10.3  12.5  5.9  1.3  1.5  3.7  27.7  35.3   \n",
      "3  18.7   0.484  ...   2.5  11.1  13.6  3.7  0.7  1.9  3.5  27.5  32.2   \n",
      "4  19.4   0.472  ...   0.7   4.7   5.3  5.2  1.3  0.4  2.8  27.3  26.1   \n",
      "\n",
      "    Season  \n",
      "0  2018-19  \n",
      "1  2018-19  \n",
      "2  2018-19  \n",
      "3  2018-19  \n",
      "4  2018-19  \n",
      "\n",
      "[5 rows x 26 columns]\n"
     ]
    }
   ],
   "source": [
    "# Example usage\n",
    "nba_stats = scrape_nba_data(2018, 2023)\n",
    "if not nba_stats.empty:\n",
    "    print(f\"Data scraped for {nba_stats['Season'].nunique()} seasons.\")\n",
    "    print(nba_stats.head())\n",
    "else:\n",
    "    print(\"No data was retrieved.\")"
   ]
  },
  {
   "cell_type": "code",
   "execution_count": 44,
   "id": "9805a35e",
   "metadata": {},
   "outputs": [
    {
     "name": "stdout",
     "output_type": "stream",
     "text": [
      "PLAYER\n",
      "Kyle Kuzma         6\n",
      "DeMar DeRozan      6\n",
      "Jrue Holiday       6\n",
      "Jayson Tatum       6\n",
      "Rudy Gobert        6\n",
      "                  ..\n",
      "Darren Collison    1\n",
      "Dwayne Bacon       1\n",
      "Elfrid Payton      1\n",
      "Theo Maledon       1\n",
      "Dalen Terry        1\n",
      "Name: count, Length: 539, dtype: int64\n"
     ]
    }
   ],
   "source": [
    "print(nba_stats['PLAYER'].value_counts())"
   ]
  },
  {
   "cell_type": "code",
   "execution_count": 45,
   "id": "65372ab5",
   "metadata": {},
   "outputs": [
    {
     "name": "stdout",
     "output_type": "stream",
     "text": [
      "PLAYER_ID    0\n",
      "RANK         0\n",
      "PLAYER       0\n",
      "TEAM_ID      0\n",
      "TEAM         0\n",
      "GP           0\n",
      "MIN          0\n",
      "FGM          0\n",
      "FGA          0\n",
      "FG_PCT       0\n",
      "FG3M         0\n",
      "FG3A         0\n",
      "FG3_PCT      0\n",
      "FTM          0\n",
      "FTA          0\n",
      "FT_PCT       0\n",
      "OREB         0\n",
      "DREB         0\n",
      "REB          0\n",
      "AST          0\n",
      "STL          0\n",
      "BLK          0\n",
      "TOV          0\n",
      "PTS          0\n",
      "EFF          0\n",
      "Season       0\n",
      "dtype: int64\n"
     ]
    }
   ],
   "source": [
    "print(nba_stats.isnull().sum())"
   ]
  },
  {
   "cell_type": "code",
   "execution_count": null,
   "id": "5dcd56c3",
   "metadata": {},
   "outputs": [],
   "source": []
  }
 ],
 "metadata": {
  "kernelspec": {
   "display_name": "Python 3 (ipykernel)",
   "language": "python",
   "name": "python3"
  },
  "language_info": {
   "codemirror_mode": {
    "name": "ipython",
    "version": 3
   },
   "file_extension": ".py",
   "mimetype": "text/x-python",
   "name": "python",
   "nbconvert_exporter": "python",
   "pygments_lexer": "ipython3",
   "version": "3.11.5"
  }
 },
 "nbformat": 4,
 "nbformat_minor": 5
}
