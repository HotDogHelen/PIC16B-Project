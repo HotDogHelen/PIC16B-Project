{
 "cells": [
  {
   "cell_type": "code",
   "execution_count": 9,
   "id": "fde5671e",
   "metadata": {},
   "outputs": [],
   "source": [
    "#3 pointer is worth 3, \n",
    "#2 point is worth 2, \n",
    "#FT is worth 1, \n",
    "#Rebounds are worth 1.2, \n",
    "#Assists are worth 1.5, \n",
    "#Blocks are worth 2, \n",
    "#Steals are worth 2, \n",
    "#Turnovers are worth -1\n",
    "\n",
    "import pandas as pd \n",
    "\n",
    "#taking in the pic16b_project.csv file and giving back a new csv that has the modified fantasy stats conversion\n",
    "def fantasy_stats(nba_df):\n",
    "    columns = ['Year', 'PLAYER', 'GP', 'FGM', 'FG3M','FTM', 'REB', 'AST', 'STL', 'BLK', 'TOV']\n",
    "    \n",
    "    \n",
    "    nba_df['FTM'] = nba_df['FTM'] * 1\n",
    "    nba_df['FGM'] = nba_df['FGM'] * 2\n",
    "    nba_df['FG3M'] = nba_df['FG3M'] * 3\n",
    "    nba_df['REB'] = nba_df['REB'] * 1.2 \n",
    "    nba_df['AST'] = nba_df['AST'] * 1.5  \n",
    "    nba_df['STL'] = nba_df['STL'] * 2  \n",
    "    nba_df['BLK'] = nba_df['BLK'] * 2  \n",
    "    nba_df['TOV'] = nba_df['TOV'] * -1  \n",
    "    \n",
    "    # Calculate total fantasy points\n",
    "    nba_df['Fantasy Points'] = nba_df['GP'] * (\n",
    "        nba_df['FTM'] +\n",
    "        nba_df['FG3M'] +\n",
    "        nba_df['FGM'] +\n",
    "        nba_df['REB'] + \n",
    "        nba_df['AST'] + \n",
    "        nba_df['STL'] + \n",
    "        nba_df['BLK'] + \n",
    "        nba_df['TOV'] \n",
    "    )\n",
    "    \n",
    "    # Sort the DataFrame by Fantasy Points in descending order\n",
    "    nba_df = nba_df.sort_values(by='Fantasy Points', ascending=False)\n",
    "    \n",
    "    return nba_df[['Year', 'PLAYER', 'FGM','FG3M','FTM', 'REB', 'AST', 'STL', 'BLK', 'TOV', 'Fantasy Points']]\n"
   ]
  },
  {
   "cell_type": "code",
   "execution_count": 10,
   "id": "96f9cf2a",
   "metadata": {},
   "outputs": [],
   "source": [
    "nba_api_df = pd.read_csv('pic16b_project.csv')\n",
    "sorted_fantasy_df = fantasy_stats(nba_api_df)"
   ]
  },
  {
   "cell_type": "code",
   "execution_count": 12,
   "id": "0fdf7374",
   "metadata": {},
   "outputs": [
    {
     "name": "stdout",
     "output_type": "stream",
     "text": [
      "         Year                  PLAYER   FGM  FG3M   FTM    REB    AST  STL  \\\n",
      "0     2018-19            James Harden  21.6  14.4   9.7   7.92  11.25  4.0   \n",
      "1229  2023-24             Luka Dončić  23.0  12.3   6.8  11.04  14.70  2.8   \n",
      "1238  2023-24            Nikola Jokić  20.8   3.3   4.5  14.88  13.50  2.8   \n",
      "761   2021-22            Nikola Jokić  20.6   3.9   5.1  16.56  11.85  3.0   \n",
      "258   2019-20            James Harden  19.8  13.2  10.2   7.92  11.25  3.6   \n",
      "...       ...                     ...   ...   ...   ...    ...    ...  ...   \n",
      "754   2020-21  Thanasis Antetokounmpo   2.4   0.3   0.4   2.64   1.20  0.8   \n",
      "517   2019-20            Goga Bitadze   2.6   0.3   0.4   2.40   0.60  0.4   \n",
      "1226  2022-23            Anthony Gill   2.4   0.3   0.8   2.04   0.90  0.2   \n",
      "755   2020-21                Miye Oni   1.2   1.8   0.1   1.92   0.75  0.4   \n",
      "257   2018-19     Sindarius Thornwell   0.6   0.0   0.4   0.84   0.45  0.4   \n",
      "\n",
      "      BLK  TOV  Fantasy Points  \n",
      "0     1.4 -5.0         5091.06  \n",
      "1229  1.0 -4.0         4734.80  \n",
      "1238  1.8 -3.0         4627.82  \n",
      "761   1.8 -3.8         4366.74  \n",
      "258   1.8 -4.5         4302.36  \n",
      "...   ...  ...             ...  \n",
      "754   0.4 -0.8          418.38  \n",
      "517   1.4 -0.5          410.40  \n",
      "1226  0.4 -0.3          397.66  \n",
      "755   0.2 -0.3          327.78  \n",
      "257   0.2 -0.3          165.76  \n",
      "\n",
      "[1469 rows x 11 columns]\n"
     ]
    }
   ],
   "source": [
    "print(sorted_fantasy_df)"
   ]
  },
  {
   "cell_type": "code",
   "execution_count": null,
   "id": "2c6ccc12",
   "metadata": {},
   "outputs": [],
   "source": []
  }
 ],
 "metadata": {
  "kernelspec": {
   "display_name": "Python 3 (ipykernel)",
   "language": "python",
   "name": "python3"
  },
  "language_info": {
   "codemirror_mode": {
    "name": "ipython",
    "version": 3
   },
   "file_extension": ".py",
   "mimetype": "text/x-python",
   "name": "python",
   "nbconvert_exporter": "python",
   "pygments_lexer": "ipython3",
   "version": "3.10.9"
  }
 },
 "nbformat": 4,
 "nbformat_minor": 5
}
