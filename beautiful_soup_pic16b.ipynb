{
 "cells": [
  {
   "cell_type": "code",
   "execution_count": 2,
   "id": "1d675825",
   "metadata": {},
   "outputs": [
    {
     "name": "stdout",
     "output_type": "stream",
     "text": [
      "Scraping stats for the 2018-19 season...\n",
      "...waiting 12.21 seconds before next request.\n",
      "Scraping stats for the 2019-20 season...\n",
      "...waiting 14.88 seconds before next request.\n",
      "Scraping stats for the 2020-21 season...\n",
      "...waiting 9.48 seconds before next request.\n",
      "Scraping stats for the 2021-22 season...\n",
      "...waiting 14.46 seconds before next request.\n",
      "Scraping stats for the 2022-23 season...\n",
      "...waiting 7.98 seconds before next request.\n",
      "Scraping stats for the 2023-24 season...\n",
      "...waiting 13.39 seconds before next request.\n",
      "All data scraped and saved to nba_stats_last_5_years.csv!\n"
     ]
    }
   ],
   "source": [
    "import requests\n",
    "from bs4 import BeautifulSoup\n",
    "import pandas as pd\n",
    "import time\n",
    "import random\n",
    "\n",
    "def scrape_season_stats(year):\n",
    "    \"\"\"Scrape NBA player per-game stats for a given season.\"\"\"\n",
    "    url = f\"https://www.basketball-reference.com/leagues/NBA_{year}_per_game.html\"\n",
    "    headers = {\n",
    "        'User-Agent': 'Mozilla/5.0 (Windows NT 10.0; Win64; x64) AppleWebKit/537.36 (KHTML, like Gecko) Chrome/91.0.4472.124 Safari/537.36'\n",
    "    }\n",
    "\n",
    "    response = requests.get(url, headers=headers)\n",
    "    if response.status_code != 200:\n",
    "        print(f\"Failed to fetch data for {year}: {response.status_code}\")\n",
    "        return None\n",
    "\n",
    "    soup = BeautifulSoup(response.content, 'html.parser')\n",
    "    table = soup.find('table', {'id': 'per_game_stats'})\n",
    "\n",
    "    # Extract table headers\n",
    "    headers = [th.text for th in table.find('thead').find_all('th')][1:]  # Skip first column ('Rank')\n",
    "\n",
    "    # Extract table rows\n",
    "    rows = []\n",
    "    for row in table.find('tbody').find_all('tr'):\n",
    "        if row.find('th', {'scope': 'row'}):  # Skip non-player rows\n",
    "            rows.append([td.text for td in row.find_all('td')])\n",
    "\n",
    "    # Create DataFrame\n",
    "    season_df = pd.DataFrame(rows, columns=headers)\n",
    "    season_df['Season'] = f\"{year-1}-{str(year)[2:]}\"  # Add season column\n",
    "    return season_df\n",
    "\n",
    "def scrape_multiple_seasons(start_year, end_year):\n",
    "    \"\"\"Scrape stats for multiple seasons and save as a CSV.\"\"\"\n",
    "    all_data = []\n",
    "\n",
    "    for year in range(start_year, end_year + 1):\n",
    "        print(f\"Scraping stats for the {year-1}-{str(year)[2:]} season...\")\n",
    "        season_data = scrape_season_stats(year)\n",
    "        if season_data is not None:\n",
    "            all_data.append(season_data)\n",
    "\n",
    "        # Introduce a random delay to avoid being blocked\n",
    "        delay = random.uniform(5, 15)\n",
    "        print(f\"...waiting {round(delay, 2)} seconds before next request.\")\n",
    "        time.sleep(delay)\n",
    "\n",
    "    # Combine all data and save\n",
    "    full_data = pd.concat(all_data, ignore_index=True)\n",
    "    full_data.to_csv('nba_stats_last_5_years.csv', index=False)\n",
    "    print(\"All data scraped and saved to nba_stats_last_5_years.csv!\")\n",
    "\n",
    "# Scrape NBA stats for the last 5 seasons, including 2023-24\n",
    "scrape_multiple_seasons(2019, 2024)"
   ]
  },
  {
   "cell_type": "code",
   "execution_count": 6,
   "id": "4771e3a0",
   "metadata": {},
   "outputs": [
    {
     "data": {
      "text/plain": [
       "(4296, 31)"
      ]
     },
     "execution_count": 6,
     "metadata": {},
     "output_type": "execute_result"
    }
   ],
   "source": [
    "df = pd.read_csv('nba_stats_last_5_years.csv')\n",
    "df.shape"
   ]
  },
  {
   "cell_type": "code",
   "execution_count": 7,
   "id": "4e695878",
   "metadata": {},
   "outputs": [
    {
     "name": "stdout",
     "output_type": "stream",
     "text": [
      "LeBron James appears 6 times in the dataset.\n"
     ]
    }
   ],
   "source": [
    "lebron_count = df[df['Player'].str.contains('LeBron James', na=False)].shape[0]\n",
    "\n",
    "print(f\"LeBron James appears {lebron_count} times in the dataset.\")"
   ]
  },
  {
   "cell_type": "code",
   "execution_count": 11,
   "id": "ce19374c",
   "metadata": {
    "scrolled": true
   },
   "outputs": [
    {
     "data": {
      "text/plain": [
       "Player       0\n",
       "Age          6\n",
       "Team         6\n",
       "Pos          6\n",
       "G            6\n",
       "GS           6\n",
       "MP           6\n",
       "FG           6\n",
       "FGA          6\n",
       "FG%         36\n",
       "3P           6\n",
       "3PA          6\n",
       "3P%        259\n",
       "2P           6\n",
       "2PA          6\n",
       "2P%         75\n",
       "eFG%        36\n",
       "FT           6\n",
       "FTA          6\n",
       "FT%        298\n",
       "ORB          6\n",
       "DRB          6\n",
       "TRB          6\n",
       "AST          6\n",
       "STL          6\n",
       "BLK          6\n",
       "TOV          6\n",
       "PF           6\n",
       "PTS          6\n",
       "Awards    3977\n",
       "Season       0\n",
       "dtype: int64"
      ]
     },
     "execution_count": 11,
     "metadata": {},
     "output_type": "execute_result"
    }
   ],
   "source": [
    "df.isnull().sum()"
   ]
  },
  {
   "cell_type": "code",
   "execution_count": 19,
   "id": "8026f0be",
   "metadata": {},
   "outputs": [
    {
     "data": {
      "text/plain": [
       "Player    0\n",
       "Age       0\n",
       "Team      0\n",
       "Pos       0\n",
       "G         0\n",
       "GS        0\n",
       "MP        0\n",
       "FG        0\n",
       "FGA       0\n",
       "FG%       0\n",
       "3P        0\n",
       "3PA       0\n",
       "3P%       4\n",
       "2P        0\n",
       "2PA       0\n",
       "2P%       0\n",
       "eFG%      0\n",
       "FT        0\n",
       "FTA       0\n",
       "FT%       0\n",
       "ORB       0\n",
       "DRB       0\n",
       "TRB       0\n",
       "AST       0\n",
       "STL       0\n",
       "BLK       0\n",
       "TOV       0\n",
       "PF        0\n",
       "PTS       0\n",
       "Season    0\n",
       "dtype: int64"
      ]
     },
     "execution_count": 19,
     "metadata": {},
     "output_type": "execute_result"
    }
   ],
   "source": [
    "df = df.drop(columns=['Awards'])\n",
    "df.isnull().sum()"
   ]
  },
  {
   "cell_type": "code",
   "execution_count": 20,
   "id": "fef3b486",
   "metadata": {},
   "outputs": [],
   "source": [
    "df.to_csv('pic16b_nba_stats.csv', index=False)"
   ]
  },
  {
   "cell_type": "code",
   "execution_count": 21,
   "id": "7724fbc0",
   "metadata": {},
   "outputs": [],
   "source": [
    "import sqlite3"
   ]
  },
  {
   "cell_type": "code",
   "execution_count": 26,
   "id": "9040c751",
   "metadata": {},
   "outputs": [],
   "source": [
    "conn = sqlite3.connect('nba_stats.db')\n",
    "df.to_sql('player_stats', conn, if_exists='replace', index=False)\n",
    "conn.close()"
   ]
  },
  {
   "cell_type": "code",
   "execution_count": 27,
   "id": "08eb5592",
   "metadata": {},
   "outputs": [
    {
     "name": "stdout",
     "output_type": "stream",
     "text": [
      "                  Player   Age Team Pos     G    GS    MP    FG   FGA    FG%  \\\n",
      "0           James Harden  29.0  HOU  PG  78.0  78.0  36.8  10.8  24.5  0.442   \n",
      "1            Paul George  28.0  OKC  SF  77.0  77.0  36.9   9.2  21.0  0.438   \n",
      "2  Giannis Antetokounmpo  24.0  MIL  PF  72.0  72.0  32.8  10.0  17.3  0.578   \n",
      "3            Joel Embiid  24.0  PHI   C  64.0  64.0  33.7   9.1  18.7  0.484   \n",
      "4           LeBron James  34.0  LAL  SF  55.0  55.0  35.2  10.1  19.9  0.510   \n",
      "\n",
      "   ...  ORB   DRB   TRB  AST  STL  BLK  TOV   PF   PTS   Season  \n",
      "0  ...  0.8   5.8   6.6  7.5  2.0  0.7  5.0  3.1  36.1  2018-19  \n",
      "1  ...  1.4   6.8   8.2  4.1  2.2  0.4  2.7  2.8  28.0  2018-19  \n",
      "2  ...  2.2  10.3  12.5  5.9  1.3  1.5  3.7  3.2  27.7  2018-19  \n",
      "3  ...  2.5  11.1  13.6  3.7  0.7  1.9  3.5  3.3  27.5  2018-19  \n",
      "4  ...  1.0   7.4   8.5  8.3  1.3  0.6  3.6  1.7  27.4  2018-19  \n",
      "\n",
      "[5 rows x 30 columns]\n"
     ]
    }
   ],
   "source": [
    "conn = sqlite3.connect('nba_stats.db')\n",
    "query = \"SELECT * FROM player_stats LIMIT 5;\"\n",
    "print(pd.read_sql(query, conn))\n",
    "conn.close()"
   ]
  },
  {
   "cell_type": "code",
   "execution_count": null,
   "id": "0052f937",
   "metadata": {},
   "outputs": [],
   "source": []
  }
 ],
 "metadata": {
  "kernelspec": {
   "display_name": "Python 3 (ipykernel)",
   "language": "python",
   "name": "python3"
  },
  "language_info": {
   "codemirror_mode": {
    "name": "ipython",
    "version": 3
   },
   "file_extension": ".py",
   "mimetype": "text/x-python",
   "name": "python",
   "nbconvert_exporter": "python",
   "pygments_lexer": "ipython3",
   "version": "3.11.5"
  }
 },
 "nbformat": 4,
 "nbformat_minor": 5
}
